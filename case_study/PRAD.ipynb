{
 "cells": [
  {
   "cell_type": "code",
   "execution_count": 1,
   "id": "70a6b3cb",
   "metadata": {},
   "outputs": [],
   "source": [
    "import pandas as pd"
   ]
  },
  {
   "cell_type": "code",
   "execution_count": 2,
   "id": "ef9ee255",
   "metadata": {},
   "outputs": [],
   "source": [
    "# pip install git+https://github.com/frlender/muldataframe.git\n",
    "import muldataframe as md"
   ]
  },
  {
   "cell_type": "code",
   "execution_count": 3,
   "id": "1aa04910",
   "metadata": {},
   "outputs": [],
   "source": [
    "meta = pd.read_csv('TCGA.PRAD.sampleMap_PRAD_clinicalMatrix',sep='\\t',index_col=0)\n",
    "data = pd.read_csv('TCGA.PRAD.sampleMap_HiSeqV2.gz',sep='\\t',index_col=0)"
   ]
  },
  {
   "cell_type": "code",
   "execution_count": 4,
   "id": "1b58a7b8",
   "metadata": {},
   "outputs": [],
   "source": [
    "meta2 = meta[['age_at_initial_pathologic_diagnosis',\n",
    "              'pathologic_T','sample_type']]\n",
    "meta2 = meta2.rename(columns={'age_at_initial_pathologic_diagnosis':'age','pathologic_T':'stage'})"
   ]
  },
  {
   "cell_type": "code",
   "execution_count": 5,
   "id": "48c5cba4",
   "metadata": {},
   "outputs": [],
   "source": [
    "# Only include 5 genes in this example.\n",
    "# The values data frame is transposed to make printed data frames easier to read.\n",
    "data2 = data.loc[['KLK3','PCA3','ERG','PTEN','CHD1']].transpose()\n",
    "data2.columns.name = 'gene'"
   ]
  },
  {
   "cell_type": "markdown",
   "id": "b4d5c91e-d71d-49d9-8b17-a738bbc6c367",
   "metadata": {},
   "source": [
    "## Initialization\n",
    "The MulDataFrame constructor takes up to three data frames as input: values, index, and columns. The index and columns data frames are optional. In this example, we provide a values and an index DataFrame. The constructor automatically uses the intersection of their indexes as the primary index."
   ]
  },
  {
   "cell_type": "code",
   "execution_count": 6,
   "id": "e76d01b4",
   "metadata": {},
   "outputs": [],
   "source": [
    "mf = md.MulDataFrame(data2,index=meta2)"
   ]
  },
  {
   "cell_type": "code",
   "execution_count": 7,
   "id": "c570f02c",
   "metadata": {},
   "outputs": [
    {
     "name": "stdout",
     "output_type": "stream",
     "text": [
      "(550, 5) (566, 3) (550, 5)\n"
     ]
    }
   ],
   "source": [
    "print(data2.shape, meta2.shape, mf.shape)"
   ]
  },
  {
   "cell_type": "markdown",
   "id": "239c60b8-4353-4f14-975f-3273c39b49e4",
   "metadata": {},
   "source": [
    "You can access the three data frames through the `.index`, `.columns`, and `.df` attributes of the MulDataFrame object. The `.df` attribute specifically returns the values data frame. The `.values` attribute returns the values of the values data frame. Since no input was provided for `columns` in this example, the resulting columns data frame is empty, but its index still corresponds to the columns of the values data frame."
   ]
  },
  {
   "cell_type": "code",
   "execution_count": 8,
   "id": "9ede9e4a-16c1-4dc5-89a5-7b854651b183",
   "metadata": {},
   "outputs": [
    {
     "data": {
      "text/html": [
       "<div>\n",
       "<style scoped>\n",
       "    .dataframe tbody tr th:only-of-type {\n",
       "        vertical-align: middle;\n",
       "    }\n",
       "\n",
       "    .dataframe tbody tr th {\n",
       "        vertical-align: top;\n",
       "    }\n",
       "\n",
       "    .dataframe thead th {\n",
       "        text-align: right;\n",
       "    }\n",
       "</style>\n",
       "<table border=\"1\" class=\"dataframe\">\n",
       "  <thead>\n",
       "    <tr style=\"text-align: right;\">\n",
       "      <th></th>\n",
       "      <th>age</th>\n",
       "      <th>stage</th>\n",
       "      <th>sample_type</th>\n",
       "    </tr>\n",
       "    <tr>\n",
       "      <th>sampleID</th>\n",
       "      <th></th>\n",
       "      <th></th>\n",
       "      <th></th>\n",
       "    </tr>\n",
       "  </thead>\n",
       "  <tbody>\n",
       "    <tr>\n",
       "      <th>TCGA-2A-A8VL-01</th>\n",
       "      <td>51</td>\n",
       "      <td>T2b</td>\n",
       "      <td>Primary Tumor</td>\n",
       "    </tr>\n",
       "    <tr>\n",
       "      <th>TCGA-2A-A8VO-01</th>\n",
       "      <td>57</td>\n",
       "      <td>T3a</td>\n",
       "      <td>Primary Tumor</td>\n",
       "    </tr>\n",
       "    <tr>\n",
       "      <th>TCGA-2A-A8VT-01</th>\n",
       "      <td>47</td>\n",
       "      <td>T4</td>\n",
       "      <td>Primary Tumor</td>\n",
       "    </tr>\n",
       "    <tr>\n",
       "      <th>TCGA-2A-A8VV-01</th>\n",
       "      <td>52</td>\n",
       "      <td>T2b</td>\n",
       "      <td>Primary Tumor</td>\n",
       "    </tr>\n",
       "    <tr>\n",
       "      <th>TCGA-2A-A8VX-01</th>\n",
       "      <td>70</td>\n",
       "      <td>T3b</td>\n",
       "      <td>Primary Tumor</td>\n",
       "    </tr>\n",
       "    <tr>\n",
       "      <th>...</th>\n",
       "      <td>...</td>\n",
       "      <td>...</td>\n",
       "      <td>...</td>\n",
       "    </tr>\n",
       "    <tr>\n",
       "      <th>TCGA-ZG-A9M4-01</th>\n",
       "      <td>65</td>\n",
       "      <td>T3b</td>\n",
       "      <td>Primary Tumor</td>\n",
       "    </tr>\n",
       "    <tr>\n",
       "      <th>TCGA-ZG-A9MC-01</th>\n",
       "      <td>69</td>\n",
       "      <td>T3b</td>\n",
       "      <td>Primary Tumor</td>\n",
       "    </tr>\n",
       "    <tr>\n",
       "      <th>TCGA-ZG-A9N3-01</th>\n",
       "      <td>73</td>\n",
       "      <td>T3b</td>\n",
       "      <td>Primary Tumor</td>\n",
       "    </tr>\n",
       "    <tr>\n",
       "      <th>TCGA-ZG-A9ND-01</th>\n",
       "      <td>55</td>\n",
       "      <td>T3a</td>\n",
       "      <td>Primary Tumor</td>\n",
       "    </tr>\n",
       "    <tr>\n",
       "      <th>TCGA-ZG-A9NI-01</th>\n",
       "      <td>73</td>\n",
       "      <td>T3b</td>\n",
       "      <td>Primary Tumor</td>\n",
       "    </tr>\n",
       "  </tbody>\n",
       "</table>\n",
       "<p>550 rows × 3 columns</p>\n",
       "</div>"
      ],
      "text/plain": [
       "                 age stage    sample_type\n",
       "sampleID                                 \n",
       "TCGA-2A-A8VL-01   51   T2b  Primary Tumor\n",
       "TCGA-2A-A8VO-01   57   T3a  Primary Tumor\n",
       "TCGA-2A-A8VT-01   47    T4  Primary Tumor\n",
       "TCGA-2A-A8VV-01   52   T2b  Primary Tumor\n",
       "TCGA-2A-A8VX-01   70   T3b  Primary Tumor\n",
       "...              ...   ...            ...\n",
       "TCGA-ZG-A9M4-01   65   T3b  Primary Tumor\n",
       "TCGA-ZG-A9MC-01   69   T3b  Primary Tumor\n",
       "TCGA-ZG-A9N3-01   73   T3b  Primary Tumor\n",
       "TCGA-ZG-A9ND-01   55   T3a  Primary Tumor\n",
       "TCGA-ZG-A9NI-01   73   T3b  Primary Tumor\n",
       "\n",
       "[550 rows x 3 columns]"
      ]
     },
     "execution_count": 8,
     "metadata": {},
     "output_type": "execute_result"
    }
   ],
   "source": [
    "mf.index"
   ]
  },
  {
   "cell_type": "code",
   "execution_count": 9,
   "id": "d4ca089e-44d3-4408-bbd3-c07ddd4296e4",
   "metadata": {},
   "outputs": [
    {
     "data": {
      "text/html": [
       "<div>\n",
       "<style scoped>\n",
       "    .dataframe tbody tr th:only-of-type {\n",
       "        vertical-align: middle;\n",
       "    }\n",
       "\n",
       "    .dataframe tbody tr th {\n",
       "        vertical-align: top;\n",
       "    }\n",
       "\n",
       "    .dataframe thead th {\n",
       "        text-align: right;\n",
       "    }\n",
       "</style>\n",
       "<table border=\"1\" class=\"dataframe\">\n",
       "  <thead>\n",
       "    <tr style=\"text-align: right;\">\n",
       "      <th></th>\n",
       "    </tr>\n",
       "    <tr>\n",
       "      <th>gene</th>\n",
       "    </tr>\n",
       "  </thead>\n",
       "  <tbody>\n",
       "    <tr>\n",
       "      <th>KLK3</th>\n",
       "    </tr>\n",
       "    <tr>\n",
       "      <th>PCA3</th>\n",
       "    </tr>\n",
       "    <tr>\n",
       "      <th>ERG</th>\n",
       "    </tr>\n",
       "    <tr>\n",
       "      <th>PTEN</th>\n",
       "    </tr>\n",
       "    <tr>\n",
       "      <th>CHD1</th>\n",
       "    </tr>\n",
       "  </tbody>\n",
       "</table>\n",
       "</div>"
      ],
      "text/plain": [
       "Empty DataFrame\n",
       "Columns: []\n",
       "Index: [KLK3, PCA3, ERG, PTEN, CHD1]"
      ]
     },
     "execution_count": 9,
     "metadata": {},
     "output_type": "execute_result"
    }
   ],
   "source": [
    "mf.columns"
   ]
  },
  {
   "cell_type": "code",
   "execution_count": 10,
   "id": "e5eab1d1",
   "metadata": {},
   "outputs": [
    {
     "data": {
      "text/html": [
       "<div>\n",
       "<style scoped>\n",
       "    .dataframe tbody tr th:only-of-type {\n",
       "        vertical-align: middle;\n",
       "    }\n",
       "\n",
       "    .dataframe tbody tr th {\n",
       "        vertical-align: top;\n",
       "    }\n",
       "\n",
       "    .dataframe thead th {\n",
       "        text-align: right;\n",
       "    }\n",
       "</style>\n",
       "<table border=\"1\" class=\"dataframe\">\n",
       "  <thead>\n",
       "    <tr style=\"text-align: right;\">\n",
       "      <th>gene</th>\n",
       "      <th>KLK3</th>\n",
       "      <th>PCA3</th>\n",
       "      <th>ERG</th>\n",
       "      <th>PTEN</th>\n",
       "      <th>CHD1</th>\n",
       "    </tr>\n",
       "    <tr>\n",
       "      <th>sampleID</th>\n",
       "      <th></th>\n",
       "      <th></th>\n",
       "      <th></th>\n",
       "      <th></th>\n",
       "      <th></th>\n",
       "    </tr>\n",
       "  </thead>\n",
       "  <tbody>\n",
       "    <tr>\n",
       "      <th>TCGA-2A-A8VL-01</th>\n",
       "      <td>19.1629</td>\n",
       "      <td>8.4644</td>\n",
       "      <td>11.9903</td>\n",
       "      <td>10.3644</td>\n",
       "      <td>9.1404</td>\n",
       "    </tr>\n",
       "    <tr>\n",
       "      <th>TCGA-2A-A8VO-01</th>\n",
       "      <td>19.2607</td>\n",
       "      <td>14.3640</td>\n",
       "      <td>7.6609</td>\n",
       "      <td>10.6331</td>\n",
       "      <td>9.0857</td>\n",
       "    </tr>\n",
       "    <tr>\n",
       "      <th>TCGA-2A-A8VT-01</th>\n",
       "      <td>16.8638</td>\n",
       "      <td>6.1982</td>\n",
       "      <td>13.0764</td>\n",
       "      <td>10.6914</td>\n",
       "      <td>9.5660</td>\n",
       "    </tr>\n",
       "    <tr>\n",
       "      <th>TCGA-2A-A8VV-01</th>\n",
       "      <td>19.2036</td>\n",
       "      <td>12.0856</td>\n",
       "      <td>13.0030</td>\n",
       "      <td>10.6339</td>\n",
       "      <td>9.0853</td>\n",
       "    </tr>\n",
       "    <tr>\n",
       "      <th>TCGA-2A-A8VX-01</th>\n",
       "      <td>18.4583</td>\n",
       "      <td>14.8225</td>\n",
       "      <td>6.1908</td>\n",
       "      <td>10.6436</td>\n",
       "      <td>8.3102</td>\n",
       "    </tr>\n",
       "    <tr>\n",
       "      <th>...</th>\n",
       "      <td>...</td>\n",
       "      <td>...</td>\n",
       "      <td>...</td>\n",
       "      <td>...</td>\n",
       "      <td>...</td>\n",
       "    </tr>\n",
       "    <tr>\n",
       "      <th>TCGA-ZG-A9M4-01</th>\n",
       "      <td>14.4221</td>\n",
       "      <td>1.8331</td>\n",
       "      <td>7.9511</td>\n",
       "      <td>9.9380</td>\n",
       "      <td>9.4693</td>\n",
       "    </tr>\n",
       "    <tr>\n",
       "      <th>TCGA-ZG-A9MC-01</th>\n",
       "      <td>15.6036</td>\n",
       "      <td>4.3937</td>\n",
       "      <td>11.1014</td>\n",
       "      <td>10.1474</td>\n",
       "      <td>9.4568</td>\n",
       "    </tr>\n",
       "    <tr>\n",
       "      <th>TCGA-ZG-A9N3-01</th>\n",
       "      <td>14.7842</td>\n",
       "      <td>1.0196</td>\n",
       "      <td>11.4551</td>\n",
       "      <td>8.7182</td>\n",
       "      <td>9.0667</td>\n",
       "    </tr>\n",
       "    <tr>\n",
       "      <th>TCGA-ZG-A9ND-01</th>\n",
       "      <td>19.1803</td>\n",
       "      <td>14.4060</td>\n",
       "      <td>6.6021</td>\n",
       "      <td>10.3535</td>\n",
       "      <td>6.3563</td>\n",
       "    </tr>\n",
       "    <tr>\n",
       "      <th>TCGA-ZG-A9NI-01</th>\n",
       "      <td>18.5093</td>\n",
       "      <td>11.4125</td>\n",
       "      <td>8.1205</td>\n",
       "      <td>11.1160</td>\n",
       "      <td>8.4406</td>\n",
       "    </tr>\n",
       "  </tbody>\n",
       "</table>\n",
       "<p>550 rows × 5 columns</p>\n",
       "</div>"
      ],
      "text/plain": [
       "gene                KLK3     PCA3      ERG     PTEN    CHD1\n",
       "sampleID                                                   \n",
       "TCGA-2A-A8VL-01  19.1629   8.4644  11.9903  10.3644  9.1404\n",
       "TCGA-2A-A8VO-01  19.2607  14.3640   7.6609  10.6331  9.0857\n",
       "TCGA-2A-A8VT-01  16.8638   6.1982  13.0764  10.6914  9.5660\n",
       "TCGA-2A-A8VV-01  19.2036  12.0856  13.0030  10.6339  9.0853\n",
       "TCGA-2A-A8VX-01  18.4583  14.8225   6.1908  10.6436  8.3102\n",
       "...                  ...      ...      ...      ...     ...\n",
       "TCGA-ZG-A9M4-01  14.4221   1.8331   7.9511   9.9380  9.4693\n",
       "TCGA-ZG-A9MC-01  15.6036   4.3937  11.1014  10.1474  9.4568\n",
       "TCGA-ZG-A9N3-01  14.7842   1.0196  11.4551   8.7182  9.0667\n",
       "TCGA-ZG-A9ND-01  19.1803  14.4060   6.6021  10.3535  6.3563\n",
       "TCGA-ZG-A9NI-01  18.5093  11.4125   8.1205  11.1160  8.4406\n",
       "\n",
       "[550 rows x 5 columns]"
      ]
     },
     "execution_count": 10,
     "metadata": {},
     "output_type": "execute_result"
    }
   ],
   "source": [
    "mf.df"
   ]
  },
  {
   "cell_type": "markdown",
   "id": "98033965-062c-48b3-8c0d-8efc0f7a7731",
   "metadata": {},
   "source": [
    "If the `MulDataFrame` object has a small number of columns, it will be neatly printed in the Python console"
   ]
  },
  {
   "cell_type": "code",
   "execution_count": 11,
   "id": "806f58f2-f7f1-4fe5-8b5b-c3629041f746",
   "metadata": {},
   "outputs": [
    {
     "data": {
      "text/plain": [
       "(550, 5)                                   Empty DataFrame\n",
       "                                           Columns: []\n",
       "                                           Index: [KLK3, PCA3, ERG, PTEN, CHD1]\n",
       "-----------------------------------------  -----------------------------------------------------------\n",
       "                 age stage    sample_type  gene                KLK3     PCA3      ERG     PTEN    CHD1\n",
       "sampleID                                   sampleID\n",
       "TCGA-2A-A8VL-01   51   T2b  Primary Tumor  TCGA-2A-A8VL-01  19.1629   8.4644  11.9903  10.3644  9.1404\n",
       "TCGA-2A-A8VO-01   57   T3a  Primary Tumor  TCGA-2A-A8VO-01  19.2607  14.3640   7.6609  10.6331  9.0857\n",
       "TCGA-2A-A8VT-01   47    T4  Primary Tumor  TCGA-2A-A8VT-01  16.8638   6.1982  13.0764  10.6914  9.5660\n",
       "TCGA-2A-A8VV-01   52   T2b  Primary Tumor  TCGA-2A-A8VV-01  19.2036  12.0856  13.0030  10.6339  9.0853\n",
       "TCGA-2A-A8VX-01   70   T3b  Primary Tumor  TCGA-2A-A8VX-01  18.4583  14.8225   6.1908  10.6436  8.3102\n",
       "...              ...   ...            ...  ...                  ...      ...      ...      ...     ...\n",
       "TCGA-ZG-A9M4-01   65   T3b  Primary Tumor  TCGA-ZG-A9M4-01  14.4221   1.8331   7.9511   9.9380  9.4693\n",
       "TCGA-ZG-A9MC-01   69   T3b  Primary Tumor  TCGA-ZG-A9MC-01  15.6036   4.3937  11.1014  10.1474  9.4568\n",
       "TCGA-ZG-A9N3-01   73   T3b  Primary Tumor  TCGA-ZG-A9N3-01  14.7842   1.0196  11.4551   8.7182  9.0667\n",
       "TCGA-ZG-A9ND-01   55   T3a  Primary Tumor  TCGA-ZG-A9ND-01  19.1803  14.4060   6.6021  10.3535  6.3563\n",
       "TCGA-ZG-A9NI-01   73   T3b  Primary Tumor  TCGA-ZG-A9NI-01  18.5093  11.4125   8.1205  11.1160  8.4406\n",
       "\n",
       "[550 rows x 3 columns]                     [550 rows x 5 columns]"
      ]
     },
     "execution_count": 11,
     "metadata": {},
     "output_type": "execute_result"
    }
   ],
   "source": [
    "mf"
   ]
  },
  {
   "cell_type": "markdown",
   "id": "a061f285-2b7b-4fa8-852a-122b38e798c7",
   "metadata": {},
   "source": [
    "## Indexing\n",
    "With the primary index and columns, values in a `MulDataFrame` object can be accessed with the `[]`, `.loc`, and `.iloc` operators, just as you would with a `pandas.DataFrame`."
   ]
  },
  {
   "cell_type": "code",
   "execution_count": 15,
   "id": "80078968-d714-4ee6-86d5-d992f091a6c3",
   "metadata": {},
   "outputs": [
    {
     "data": {
      "text/plain": [
       "(550,)                                     Series([], Name: CHD1, dtype: float64)\n",
       "-----------------------------------------  ----------------------------------------\n",
       "                 age stage    sample_type                     CHD1\n",
       "sampleID                                   sampleID\n",
       "TCGA-2A-A8VL-01   51   T2b  Primary Tumor  TCGA-2A-A8VL-01  9.1404\n",
       "TCGA-2A-A8VO-01   57   T3a  Primary Tumor  TCGA-2A-A8VO-01  9.0857\n",
       "TCGA-2A-A8VT-01   47    T4  Primary Tumor  TCGA-2A-A8VT-01  9.5660\n",
       "TCGA-2A-A8VV-01   52   T2b  Primary Tumor  TCGA-2A-A8VV-01  9.0853\n",
       "TCGA-2A-A8VX-01   70   T3b  Primary Tumor  TCGA-2A-A8VX-01  8.3102\n",
       "...              ...   ...            ...  ...                 ...\n",
       "TCGA-ZG-A9M4-01   65   T3b  Primary Tumor  TCGA-ZG-A9M4-01  9.4693\n",
       "TCGA-ZG-A9MC-01   69   T3b  Primary Tumor  TCGA-ZG-A9MC-01  9.4568\n",
       "TCGA-ZG-A9N3-01   73   T3b  Primary Tumor  TCGA-ZG-A9N3-01  9.0667\n",
       "TCGA-ZG-A9ND-01   55   T3a  Primary Tumor  TCGA-ZG-A9ND-01  6.3563\n",
       "TCGA-ZG-A9NI-01   73   T3b  Primary Tumor  TCGA-ZG-A9NI-01  8.4406\n",
       "\n",
       "[550 rows x 3 columns]                     [550 rows x 1 columns]"
      ]
     },
     "execution_count": 15,
     "metadata": {},
     "output_type": "execute_result"
    }
   ],
   "source": [
    "mf['CHD1']"
   ]
  },
  {
   "cell_type": "code",
   "execution_count": 73,
   "id": "ba483712-c190-4265-bebe-a36f12458028",
   "metadata": {},
   "outputs": [
    {
     "data": {
      "text/plain": [
       "(2, 1)                                     Empty DataFrame\n",
       "                                           Columns: []\n",
       "                                           Index: [KLK3]\n",
       "-----------------------------------------  ------------------------\n",
       "                 age stage    sample_type  gene                KLK3\n",
       "sampleID                                   sampleID\n",
       "TCGA-2A-A8VO-01   57   T3a  Primary Tumor  TCGA-2A-A8VO-01  19.2607\n",
       "TCGA-2A-A8VV-01   52   T2b  Primary Tumor  TCGA-2A-A8VV-01  19.2036"
      ]
     },
     "execution_count": 73,
     "metadata": {},
     "output_type": "execute_result"
    }
   ],
   "source": [
    "mf.loc[['TCGA-2A-A8VO-01','TCGA-2A-A8VV-01'],['KLK3']]"
   ]
  },
  {
   "cell_type": "code",
   "execution_count": 74,
   "id": "0974f3b8-0ce9-458d-a41d-61d2be9178af",
   "metadata": {},
   "outputs": [
    {
     "data": {
      "text/plain": [
       "(2, 3)                                     Empty DataFrame\n",
       "                                           Columns: []\n",
       "                                           Index: [KLK3, PCA3, ERG]\n",
       "-----------------------------------------  ------------------------------------------\n",
       "                 age stage    sample_type  gene                KLK3     PCA3      ERG\n",
       "sampleID                                   sampleID\n",
       "TCGA-2A-A8VL-01   51   T2b  Primary Tumor  TCGA-2A-A8VL-01  19.1629   8.4644  11.9903\n",
       "TCGA-2A-A8VO-01   57   T3a  Primary Tumor  TCGA-2A-A8VO-01  19.2607  14.3640   7.6609"
      ]
     },
     "execution_count": 74,
     "metadata": {},
     "output_type": "execute_result"
    }
   ],
   "source": [
    "mf.iloc[:2,:3]"
   ]
  },
  {
   "cell_type": "markdown",
   "id": "83c35008-5e6d-4050-9132-17c997795666",
   "metadata": {},
   "source": [
    "The index of a `MulDataFrame` object is a pandas data frame, allowing you to use standard pandas methods for analysis. For instance, you can use `.value_counts()` to inspect the unique values in its columns."
   ]
  },
  {
   "cell_type": "code",
   "execution_count": 76,
   "id": "1c137fd0-0026-439d-9af1-ccddd44288bb",
   "metadata": {},
   "outputs": [
    {
     "data": {
      "text/plain": [
       "stage\n",
       "T2c              192\n",
       "T3a              173\n",
       "T3b              141\n",
       "T2a               14\n",
       "T4                13\n",
       "T2b               10\n",
       "[Discrepancy]      2\n",
       "Name: count, dtype: int64"
      ]
     },
     "execution_count": 76,
     "metadata": {},
     "output_type": "execute_result"
    }
   ],
   "source": [
    "mf.index['stage'].value_counts()"
   ]
  },
  {
   "cell_type": "code",
   "execution_count": 84,
   "id": "224e0c45-c933-4779-82ac-244ed8d1f9fb",
   "metadata": {},
   "outputs": [
    {
     "data": {
      "text/plain": [
       "sample_type\n",
       "Primary Tumor          497\n",
       "Solid Tissue Normal     52\n",
       "Metastatic               1\n",
       "Name: count, dtype: int64"
      ]
     },
     "execution_count": 84,
     "metadata": {},
     "output_type": "execute_result"
    }
   ],
   "source": [
    "mf.index['sample_type'].value_counts()"
   ]
  },
  {
   "cell_type": "markdown",
   "id": "61961972-6371-4e21-be57-855ffd5d8199",
   "metadata": {},
   "source": [
    "## Multi-indexing\n",
    "You can use `.mloc` to index the `MulDataFrame` object using the columns in the index data frame. `...` is used as a placeholder to select all values in a column. The example below selects all rows of the T2a stage."
   ]
  },
  {
   "cell_type": "code",
   "execution_count": 77,
   "id": "6dfbc068-7db2-49d6-ba3e-874477b444c9",
   "metadata": {},
   "outputs": [
    {
     "data": {
      "text/plain": [
       "(14, 5)                                          Empty DataFrame\n",
       "                                                 Columns: []\n",
       "                                                 Index: [KLK3, PCA3, ERG, PTEN, CHD1]\n",
       "-----------------------------------------------  ------------------------------------------------------------\n",
       "                 age stage          sample_type  gene                KLK3     PCA3      ERG     PTEN     CHD1\n",
       "sampleID                                         sampleID\n",
       "TCGA-HC-7075-01   63   T2a        Primary Tumor  TCGA-HC-7075-01  19.6512  14.9734   6.2232  10.9212   9.1710\n",
       "TCGA-HC-7080-01   66   T2a        Primary Tumor  TCGA-HC-7080-01  17.9963  14.8481   7.6173  10.3457   5.1874\n",
       "TCGA-HC-7210-01   74   T2a        Primary Tumor  TCGA-HC-7210-01  19.1844  12.8047   8.3048   9.8000   9.7667\n",
       "TCGA-HC-7212-01   56   T2a        Primary Tumor  TCGA-HC-7212-01  18.4791  14.7005  13.2451  10.3883  10.0012\n",
       "TCGA-HC-7233-01   73   T2a        Primary Tumor  TCGA-HC-7233-01  17.7017  14.5470   7.6426  11.0203   9.6762\n",
       "TCGA-HC-7748-01   60   T2a        Primary Tumor  TCGA-HC-7748-01  18.5658  14.0332  12.5656   9.9855   9.8142\n",
       "TCGA-HC-8259-01   50   T2a        Primary Tumor  TCGA-HC-8259-01  19.7698  14.5983  13.0350  10.2878   9.2298\n",
       "TCGA-HC-8259-11   50   T2a  Solid Tissue Normal  TCGA-HC-8259-11  19.3213   5.2727   8.2527  10.8453   9.0654\n",
       "TCGA-HC-A6AS-01   70   T2a        Primary Tumor  TCGA-HC-A6AS-01  18.8858  13.1969   7.5676  10.2480   8.0613\n",
       "TCGA-HC-A8D0-01   61   T2a        Primary Tumor  TCGA-HC-A8D0-01  17.4139   8.5168  12.1876  10.3549   9.3515\n",
       "TCGA-KC-A4BN-01   55   T2a        Primary Tumor  TCGA-KC-A4BN-01  19.3283  11.1459  11.1066  10.0535  10.2802\n",
       "TCGA-QU-A6IM-01   59   T2a        Primary Tumor  TCGA-QU-A6IM-01  19.3453   9.9996   7.5207  10.1904   7.3904\n",
       "TCGA-QU-A6IP-01   66   T2a        Primary Tumor  TCGA-QU-A6IP-01  19.0756  12.1864  12.9145  10.2937   8.8043\n",
       "TCGA-XJ-A9DQ-01   48   T2a        Primary Tumor  TCGA-XJ-A9DQ-01  18.8005  13.5098  11.7012  10.6929   8.9512"
      ]
     },
     "execution_count": 77,
     "metadata": {},
     "output_type": "execute_result"
    }
   ],
   "source": [
    "mf.mloc[[...,'T2a']]"
   ]
  },
  {
   "cell_type": "markdown",
   "id": "c962f44f-6a4b-4dde-8c7a-6fecae007b39",
   "metadata": {},
   "source": [
    "To filter for only primary tumor samples from the T2a and T2b stages, excluding normal samples:"
   ]
  },
  {
   "cell_type": "code",
   "execution_count": 82,
   "id": "c707dd19-3871-4b5c-ac8f-2d17abf2eb5e",
   "metadata": {},
   "outputs": [
    {
     "data": {
      "text/plain": [
       "(23, 5)                                    Empty DataFrame\n",
       "                                           Columns: []\n",
       "                                           Index: [KLK3, PCA3, ERG, PTEN, CHD1]\n",
       "-----------------------------------------  ------------------------------------------------------------\n",
       "                 age stage    sample_type  gene                KLK3     PCA3      ERG     PTEN     CHD1\n",
       "sampleID                                   sampleID\n",
       "TCGA-HC-7075-01   63   T2a  Primary Tumor  TCGA-HC-7075-01  19.6512  14.9734   6.2232  10.9212   9.1710\n",
       "TCGA-HC-7080-01   66   T2a  Primary Tumor  TCGA-HC-7080-01  17.9963  14.8481   7.6173  10.3457   5.1874\n",
       "TCGA-HC-7210-01   74   T2a  Primary Tumor  TCGA-HC-7210-01  19.1844  12.8047   8.3048   9.8000   9.7667\n",
       "TCGA-HC-7212-01   56   T2a  Primary Tumor  TCGA-HC-7212-01  18.4791  14.7005  13.2451  10.3883  10.0012\n",
       "TCGA-HC-7233-01   73   T2a  Primary Tumor  TCGA-HC-7233-01  17.7017  14.5470   7.6426  11.0203   9.6762\n",
       "TCGA-HC-7748-01   60   T2a  Primary Tumor  TCGA-HC-7748-01  18.5658  14.0332  12.5656   9.9855   9.8142\n",
       "TCGA-HC-8259-01   50   T2a  Primary Tumor  TCGA-HC-8259-01  19.7698  14.5983  13.0350  10.2878   9.2298\n",
       "TCGA-HC-A6AS-01   70   T2a  Primary Tumor  TCGA-HC-A6AS-01  18.8858  13.1969   7.5676  10.2480   8.0613\n",
       "TCGA-HC-A8D0-01   61   T2a  Primary Tumor  TCGA-HC-A8D0-01  17.4139   8.5168  12.1876  10.3549   9.3515\n",
       "TCGA-KC-A4BN-01   55   T2a  Primary Tumor  TCGA-KC-A4BN-01  19.3283  11.1459  11.1066  10.0535  10.2802\n",
       "TCGA-QU-A6IM-01   59   T2a  Primary Tumor  TCGA-QU-A6IM-01  19.3453   9.9996   7.5207  10.1904   7.3904\n",
       "TCGA-QU-A6IP-01   66   T2a  Primary Tumor  TCGA-QU-A6IP-01  19.0756  12.1864  12.9145  10.2937   8.8043\n",
       "TCGA-XJ-A9DQ-01   48   T2a  Primary Tumor  TCGA-XJ-A9DQ-01  18.8005  13.5098  11.7012  10.6929   8.9512\n",
       "TCGA-2A-A8VL-01   51   T2b  Primary Tumor  TCGA-2A-A8VL-01  19.1629   8.4644  11.9903  10.3644   9.1404\n",
       "TCGA-2A-A8VV-01   52   T2b  Primary Tumor  TCGA-2A-A8VV-01  19.2036  12.0856  13.0030  10.6339   9.0853\n",
       "TCGA-CH-5794-01   65   T2b  Primary Tumor  TCGA-CH-5794-01  18.7749  13.4953  13.1131   8.4028   9.2696\n",
       "TCGA-G9-6354-01   55   T2b  Primary Tumor  TCGA-G9-6354-01  19.8228  14.0098  12.6023  10.3935   8.7150\n",
       "TCGA-KK-A6E4-01   69   T2b  Primary Tumor  TCGA-KK-A6E4-01  19.4665  14.1844  12.8896  10.3251   8.0472\n",
       "TCGA-KK-A8I5-01   55   T2b  Primary Tumor  TCGA-KK-A8I5-01  18.5622  13.9210  11.5673  10.3580   9.7079\n",
       "TCGA-SU-A7E7-01   60   T2b  Primary Tumor  TCGA-SU-A7E7-01  18.6663  13.6705   7.8985   9.7383   9.5552\n",
       "TCGA-V1-A9OH-01   63   T2b  Primary Tumor  TCGA-V1-A9OH-01  18.8658  13.8288   7.7591  10.8535   8.9730\n",
       "TCGA-VP-A879-01   70   T2b  Primary Tumor  TCGA-VP-A879-01  18.8554  11.4516  12.4842  10.5479   9.0066\n",
       "TCGA-VP-A87B-01   63   T2b  Primary Tumor  TCGA-VP-A87B-01  19.4922  10.3132   7.5574  10.7257   6.1365"
      ]
     },
     "execution_count": 82,
     "metadata": {},
     "output_type": "execute_result"
    }
   ],
   "source": [
    "mf.mloc[[...,['T2a','T2b'],'Primary Tumor']]"
   ]
  },
  {
   "cell_type": "markdown",
   "id": "a17b61ba-7b8d-4e40-860a-419f6f3d4316",
   "metadata": {},
   "source": [
    "The `.mloc` operator can also accept a dict object as an indexer, eliminating the need for `...` placeholders."
   ]
  },
  {
   "cell_type": "code",
   "execution_count": 79,
   "id": "9408ad71-b7e4-450b-9a3d-3baee5e4fdec",
   "metadata": {},
   "outputs": [
    {
     "data": {
      "text/plain": [
       "(497, 5)                                   Empty DataFrame\n",
       "                                           Columns: []\n",
       "                                           Index: [KLK3, PCA3, ERG, PTEN, CHD1]\n",
       "-----------------------------------------  -----------------------------------------------------------\n",
       "                 age stage    sample_type  gene                KLK3     PCA3      ERG     PTEN    CHD1\n",
       "sampleID                                   sampleID\n",
       "TCGA-2A-A8VL-01   51   T2b  Primary Tumor  TCGA-2A-A8VL-01  19.1629   8.4644  11.9903  10.3644  9.1404\n",
       "TCGA-2A-A8VO-01   57   T3a  Primary Tumor  TCGA-2A-A8VO-01  19.2607  14.3640   7.6609  10.6331  9.0857\n",
       "TCGA-2A-A8VT-01   47    T4  Primary Tumor  TCGA-2A-A8VT-01  16.8638   6.1982  13.0764  10.6914  9.5660\n",
       "TCGA-2A-A8VV-01   52   T2b  Primary Tumor  TCGA-2A-A8VV-01  19.2036  12.0856  13.0030  10.6339  9.0853\n",
       "TCGA-2A-A8VX-01   70   T3b  Primary Tumor  TCGA-2A-A8VX-01  18.4583  14.8225   6.1908  10.6436  8.3102\n",
       "...              ...   ...            ...  ...                  ...      ...      ...      ...     ...\n",
       "TCGA-ZG-A9M4-01   65   T3b  Primary Tumor  TCGA-ZG-A9M4-01  14.4221   1.8331   7.9511   9.9380  9.4693\n",
       "TCGA-ZG-A9MC-01   69   T3b  Primary Tumor  TCGA-ZG-A9MC-01  15.6036   4.3937  11.1014  10.1474  9.4568\n",
       "TCGA-ZG-A9N3-01   73   T3b  Primary Tumor  TCGA-ZG-A9N3-01  14.7842   1.0196  11.4551   8.7182  9.0667\n",
       "TCGA-ZG-A9ND-01   55   T3a  Primary Tumor  TCGA-ZG-A9ND-01  19.1803  14.4060   6.6021  10.3535  6.3563\n",
       "TCGA-ZG-A9NI-01   73   T3b  Primary Tumor  TCGA-ZG-A9NI-01  18.5093  11.4125   8.1205  11.1160  8.4406\n",
       "\n",
       "[497 rows x 3 columns]                     [497 rows x 5 columns]"
      ]
     },
     "execution_count": 79,
     "metadata": {},
     "output_type": "execute_result"
    }
   ],
   "source": [
    "mf.mloc[{'sample_type':'Primary Tumor'}]"
   ]
  },
  {
   "cell_type": "markdown",
   "id": "1e11eee8-b4dd-4c3f-af64-64018e791967",
   "metadata": {},
   "source": [
    "The following example demonstrates how to use `.mloc` to index by the metadata in the columns data frame. A colon `:` is used as a placeholder for the row selection. The example also shows that selecting a single column returns a `MulSeries` object."
   ]
  },
  {
   "cell_type": "code",
   "execution_count": 88,
   "id": "70d1275d-b114-47bc-87a3-a98ff48cd8f3",
   "metadata": {},
   "outputs": [
    {
     "data": {
      "text/plain": [
       "(5,)                                  sample_type      Metastatic\n",
       "                                      stage                    T4\n",
       "                                      age                      64\n",
       "                                                  TCGA-V1-A9O5-06\n",
       "------------------------------------  -----------------------------\n",
       "Empty DataFrame                             TCGA-V1-A9O5-06\n",
       "Columns: []                           gene\n",
       "Index: [KLK3, PCA3, ERG, PTEN, CHD1]  KLK3          17.6674\n",
       "                                      PCA3           3.2238\n",
       "                                      ERG            7.7177\n",
       "                                      PTEN           8.1360\n",
       "                                      CHD1           9.7935"
      ]
     },
     "execution_count": 88,
     "metadata": {},
     "output_type": "execute_result"
    }
   ],
   "source": [
    "mft = mf.transpose()\n",
    "mft.mloc[:, [..., ..., 'Metastatic']]"
   ]
  },
  {
   "cell_type": "markdown",
   "id": "2a1e072a-f1d0-4015-9910-fdebf98067c7",
   "metadata": {},
   "source": [
    "You can use `.nloc` for position-based selection. This is particularly useful when the index or columns data frame has duplicate column names. Negative indexing is also supported, following standard Python conventions."
   ]
  },
  {
   "cell_type": "code",
   "execution_count": 97,
   "id": "ac4ac585-0a64-418a-bcb4-044a8a8505d4",
   "metadata": {},
   "outputs": [
    {
     "data": {
      "text/plain": [
       "(497, 5)                                   Empty DataFrame\n",
       "                                           Columns: []\n",
       "                                           Index: [KLK3, PCA3, ERG, PTEN, CHD1]\n",
       "-----------------------------------------  -----------------------------------------------------------\n",
       "                 age stage    sample_type  gene                KLK3     PCA3      ERG     PTEN    CHD1\n",
       "sampleID                                   sampleID\n",
       "TCGA-2A-A8VL-01   51   T2b  Primary Tumor  TCGA-2A-A8VL-01  19.1629   8.4644  11.9903  10.3644  9.1404\n",
       "TCGA-2A-A8VO-01   57   T3a  Primary Tumor  TCGA-2A-A8VO-01  19.2607  14.3640   7.6609  10.6331  9.0857\n",
       "TCGA-2A-A8VT-01   47    T4  Primary Tumor  TCGA-2A-A8VT-01  16.8638   6.1982  13.0764  10.6914  9.5660\n",
       "TCGA-2A-A8VV-01   52   T2b  Primary Tumor  TCGA-2A-A8VV-01  19.2036  12.0856  13.0030  10.6339  9.0853\n",
       "TCGA-2A-A8VX-01   70   T3b  Primary Tumor  TCGA-2A-A8VX-01  18.4583  14.8225   6.1908  10.6436  8.3102\n",
       "...              ...   ...            ...  ...                  ...      ...      ...      ...     ...\n",
       "TCGA-ZG-A9M4-01   65   T3b  Primary Tumor  TCGA-ZG-A9M4-01  14.4221   1.8331   7.9511   9.9380  9.4693\n",
       "TCGA-ZG-A9MC-01   69   T3b  Primary Tumor  TCGA-ZG-A9MC-01  15.6036   4.3937  11.1014  10.1474  9.4568\n",
       "TCGA-ZG-A9N3-01   73   T3b  Primary Tumor  TCGA-ZG-A9N3-01  14.7842   1.0196  11.4551   8.7182  9.0667\n",
       "TCGA-ZG-A9ND-01   55   T3a  Primary Tumor  TCGA-ZG-A9ND-01  19.1803  14.4060   6.6021  10.3535  6.3563\n",
       "TCGA-ZG-A9NI-01   73   T3b  Primary Tumor  TCGA-ZG-A9NI-01  18.5093  11.4125   8.1205  11.1160  8.4406\n",
       "\n",
       "[497 rows x 3 columns]                     [497 rows x 5 columns]"
      ]
     },
     "execution_count": 97,
     "metadata": {},
     "output_type": "execute_result"
    }
   ],
   "source": [
    "mf.nloc[{2:'Primary Tumor'}]"
   ]
  },
  {
   "cell_type": "code",
   "execution_count": 98,
   "id": "16b566f2-b6f5-4b08-a9f8-3bd4fc022245",
   "metadata": {},
   "outputs": [
    {
     "data": {
      "text/plain": [
       "(497, 5)                                   Empty DataFrame\n",
       "                                           Columns: []\n",
       "                                           Index: [KLK3, PCA3, ERG, PTEN, CHD1]\n",
       "-----------------------------------------  -----------------------------------------------------------\n",
       "                 age stage    sample_type  gene                KLK3     PCA3      ERG     PTEN    CHD1\n",
       "sampleID                                   sampleID\n",
       "TCGA-2A-A8VL-01   51   T2b  Primary Tumor  TCGA-2A-A8VL-01  19.1629   8.4644  11.9903  10.3644  9.1404\n",
       "TCGA-2A-A8VO-01   57   T3a  Primary Tumor  TCGA-2A-A8VO-01  19.2607  14.3640   7.6609  10.6331  9.0857\n",
       "TCGA-2A-A8VT-01   47    T4  Primary Tumor  TCGA-2A-A8VT-01  16.8638   6.1982  13.0764  10.6914  9.5660\n",
       "TCGA-2A-A8VV-01   52   T2b  Primary Tumor  TCGA-2A-A8VV-01  19.2036  12.0856  13.0030  10.6339  9.0853\n",
       "TCGA-2A-A8VX-01   70   T3b  Primary Tumor  TCGA-2A-A8VX-01  18.4583  14.8225   6.1908  10.6436  8.3102\n",
       "...              ...   ...            ...  ...                  ...      ...      ...      ...     ...\n",
       "TCGA-ZG-A9M4-01   65   T3b  Primary Tumor  TCGA-ZG-A9M4-01  14.4221   1.8331   7.9511   9.9380  9.4693\n",
       "TCGA-ZG-A9MC-01   69   T3b  Primary Tumor  TCGA-ZG-A9MC-01  15.6036   4.3937  11.1014  10.1474  9.4568\n",
       "TCGA-ZG-A9N3-01   73   T3b  Primary Tumor  TCGA-ZG-A9N3-01  14.7842   1.0196  11.4551   8.7182  9.0667\n",
       "TCGA-ZG-A9ND-01   55   T3a  Primary Tumor  TCGA-ZG-A9ND-01  19.1803  14.4060   6.6021  10.3535  6.3563\n",
       "TCGA-ZG-A9NI-01   73   T3b  Primary Tumor  TCGA-ZG-A9NI-01  18.5093  11.4125   8.1205  11.1160  8.4406\n",
       "\n",
       "[497 rows x 3 columns]                     [497 rows x 5 columns]"
      ]
     },
     "execution_count": 98,
     "metadata": {},
     "output_type": "execute_result"
    }
   ],
   "source": [
    "mf.nloc[{-1:'Primary Tumor'}]"
   ]
  },
  {
   "cell_type": "markdown",
   "id": "94aa517b-bf17-4843-9619-bb067f3dd1d4",
   "metadata": {},
   "source": [
    "## Query\n",
    "A key advantage of `MulDataFrame` is the ability to perform simultaneous queries on both the data and its metadata using the same pandas-style query syntax. The example below filters for rows where the patient's age is less than 50, the tumor stage is 'T3b', and the PTEN expression is greater than 10."
   ]
  },
  {
   "cell_type": "code",
   "execution_count": 81,
   "id": "413bac42-2c12-4b7e-b786-2a45cb937bec",
   "metadata": {},
   "outputs": [
    {
     "data": {
      "text/plain": [
       "(2, 5)                                     Empty DataFrame\n",
       "                                           Columns: []\n",
       "                                           Index: [KLK3, PCA3, ERG, PTEN, CHD1]\n",
       "-----------------------------------------  -----------------------------------------------------------\n",
       "                 age stage    sample_type  gene                KLK3     PCA3      ERG     PTEN    CHD1\n",
       "sampleID                                   sampleID\n",
       "TCGA-J4-8198-01   49   T3b  Primary Tumor  TCGA-J4-8198-01  18.3044  11.6918  12.8073  10.8820  9.8547\n",
       "TCGA-YL-A9WJ-01   47   T3b  Primary Tumor  TCGA-YL-A9WJ-01  18.8855  12.2011   8.3440  10.6094  9.5439"
      ]
     },
     "execution_count": 81,
     "metadata": {},
     "output_type": "execute_result"
    }
   ],
   "source": [
    "mf.query(index='age < 50 and stage == \"T3b\"', values='PTEN > 10')"
   ]
  },
  {
   "cell_type": "markdown",
   "id": "ae390896-c01f-4aac-9ac1-0d75c3d89fe1",
   "metadata": {},
   "source": [
    "## Groupby\n",
    "A `MulDataFrame` object can be grouped by the metadata in the index or columns data frame. By default, when a `groupby` operation is followed by an aggregation method like `.mean()` or `.sum()`, the resulting `MulDataFrame` object's metadata will only retain columns with constant values within each group."
   ]
  },
  {
   "cell_type": "code",
   "execution_count": 95,
   "id": "a70e4865-c815-45e1-8765-e4fe1e306ee4",
   "metadata": {},
   "outputs": [
    {
     "data": {
      "text/plain": [
       "(7, 5)                        Empty DataFrame\n",
       "                              Columns: []\n",
       "                              Index: [KLK3, PCA3, ERG, PTEN, CHD1]\n",
       "----------------------------  -------------------------------------------------------------------\n",
       "                 sample_type  gene                KLK3       PCA3        ERG       PTEN      CHD1\n",
       "stage                         stage\n",
       "T2a            Primary Tumor  T2a            18.784438  13.004662  10.125523  10.352477  8.898877\n",
       "T2b            Primary Tumor  T2b            19.087260  12.542460  11.086480  10.234310  8.763670\n",
       "T2c            Primary Tumor  T2c            18.733726  12.222616   9.346042  10.517148  9.010799\n",
       "T3a            Primary Tumor  T3a            18.566313  11.673963   9.654830  10.330153  8.978813\n",
       "T3b            Primary Tumor  T3b            17.947923  10.439493   9.777293  10.217233  9.099816\n",
       "T4             Primary Tumor  T4             17.759600  11.226890   9.240220  10.405700  9.444070\n",
       "[Discrepancy]  Primary Tumor  [Discrepancy]  18.765900  13.039200   7.684550  10.654700  9.675650"
      ]
     },
     "execution_count": 95,
     "metadata": {},
     "output_type": "execute_result"
    }
   ],
   "source": [
    "mf.nloc[{-1:'Primary Tumor'}].groupby('stage').mean()"
   ]
  },
  {
   "cell_type": "markdown",
   "id": "835928ad-16d7-4c23-b97f-eb493a6ca868",
   "metadata": {},
   "source": [
    "This default behavior can be changed using the `agg_mode` argument. In the following example, `agg_mode='list'` ensures that all metadata columns are retained, with differing values within each group aggregated into lists."
   ]
  },
  {
   "cell_type": "code",
   "execution_count": 96,
   "id": "51ad362f-a1dc-4010-9ae4-13a542b3c4ae",
   "metadata": {},
   "outputs": [
    {
     "data": {
      "text/plain": [
       "(7, 5)                                                               Empty DataFrame\n",
       "                                                                     Columns: []\n",
       "                                                                     Index: [KLK3, PCA3, ERG, PTEN, CHD1]\n",
       "-------------------------------------------------------------------  -------------------------------------------------------------------\n",
       "                                                             age  \\  gene                KLK3       PCA3        ERG       PTEN      CHD1\n",
       "stage                                                                stage\n",
       "T2a             [63, 66, 74, 56, 73, 60, 50, 70, 61, 55, 59, 48]     T2a            18.784438  13.004662  10.125523  10.352477  8.898877\n",
       "T2b                             [51, 52, 65, 55, 69, 60, 63, 70]     T2b            19.087260  12.542460  11.086480  10.234310  8.763670\n",
       "T2c            [57, 73, 66, 64, 72, 63, 59, 47, 56, 50, 48, 4...     T2c            18.733726  12.222616   9.346042  10.517148  9.010799\n",
       "T3a            [57, 54, 69, 56, 65, 68, 64, 66, 55, 72, 63, 6...     T3a            18.566313  11.673963   9.654830  10.330153  8.978813\n",
       "T3b            [70, 64, 56, 65, 61, 60, 66, 48, 69, 68, 55, 6...     T3b            17.947923  10.439493   9.777293  10.217233  9.099816\n",
       "T4                                  [47, 68, 66, 64, 71, 73, 58]     T4             17.759600  11.226890   9.240220  10.405700  9.444070\n",
       "[Discrepancy]                                                 72     [Discrepancy]  18.765900  13.039200   7.684550  10.654700  9.675650\n",
       "\n",
       "                 sample_type\n",
       "stage\n",
       "T2a            Primary Tumor\n",
       "T2b            Primary Tumor\n",
       "T2c            Primary Tumor\n",
       "T3a            Primary Tumor\n",
       "T3b            Primary Tumor\n",
       "T4             Primary Tumor\n",
       "[Discrepancy]  Primary Tumor"
      ]
     },
     "execution_count": 96,
     "metadata": {},
     "output_type": "execute_result"
    }
   ],
   "source": [
    "mf.nloc[{-1:'Primary Tumor'}].groupby('stage',agg_mode='list').mean()"
   ]
  },
  {
   "cell_type": "markdown",
   "id": "44f944f4-8f7a-4ba4-8765-105f56aa8a33",
   "metadata": {},
   "source": [
    "## Survival Data Integration"
   ]
  },
  {
   "cell_type": "code",
   "execution_count": 15,
   "id": "abda7d27-c10b-4d99-8833-20ff2c8ceb13",
   "metadata": {},
   "outputs": [],
   "source": [
    "sf = pd.read_csv('PRAD_survival.txt',index_col=0,sep='\\t')"
   ]
  },
  {
   "cell_type": "code",
   "execution_count": 16,
   "id": "ee4aa006-c829-4656-802a-134904303ac4",
   "metadata": {},
   "outputs": [],
   "source": [
    "# combine clinical data and survival data\n",
    "meta3 = pd.concat([meta2,sf[['OS','OS.time']]],axis=1)"
   ]
  },
  {
   "cell_type": "code",
   "execution_count": 17,
   "id": "5cbbb851-33ec-4c16-9ecb-d2b2977c6e9a",
   "metadata": {},
   "outputs": [],
   "source": [
    "mf2 = md.MulDataFrame(data2,index=meta3)"
   ]
  },
  {
   "cell_type": "code",
   "execution_count": 18,
   "id": "cb0e46ef-1ff3-4fee-8e1e-5dc6f6cf4d6f",
   "metadata": {},
   "outputs": [],
   "source": [
    "mf3 = mf2.mloc[{'sample_type':'Primary Tumor'}]"
   ]
  },
  {
   "cell_type": "code",
   "execution_count": 19,
   "id": "999eb2ce-a73a-484f-9e8a-657609bb8b24",
   "metadata": {},
   "outputs": [
    {
     "data": {
      "text/plain": [
       "0"
      ]
     },
     "execution_count": 19,
     "metadata": {},
     "output_type": "execute_result"
    }
   ],
   "source": [
    "sum(mf3.index['OS'].isna())"
   ]
  },
  {
   "cell_type": "markdown",
   "id": "ed9ee96c-10f1-4dd4-b77a-fb99fc50065b",
   "metadata": {},
   "source": [
    "### Pandas Methods\n",
    "Most standard pandas methods are also available on `MulSeries` and `MulDataFrame` objects. The example below shows a `MulSeries` object calling the `.hist()` method, just like a `pandas.Series`, to generate a histogram of its values."
   ]
  },
  {
   "cell_type": "code",
   "execution_count": 20,
   "id": "ff80045d-4a50-40ca-af41-2be368d2ca3d",
   "metadata": {},
   "outputs": [
    {
     "data": {
      "text/plain": [
       "<Axes: >"
      ]
     },
     "execution_count": 20,
     "metadata": {},
     "output_type": "execute_result"
    },
    {
     "data": {
      "image/png": "[encoded data removed]",
      "text/plain": [
       "<Figure size 640x480 with 1 Axes>"
      ]
     },
     "metadata": {},
     "output_type": "display_data"
    }
   ],
   "source": [
    "mf3['CHD1'].hist(bins=20)"
   ]
  },
  {
   "cell_type": "markdown",
   "id": "241b355a-809a-4ba8-9a80-f880ef778020",
   "metadata": {},
   "source": [
    "### Direct Metadata Manipulation\n",
    "The metadata in the index data frame can be directly modified. This allows for seamless, simultaneous analysis and manipulation of both the data and its associated metadata."
   ]
  },
  {
   "cell_type": "code",
   "execution_count": 149,
   "id": "49dd4d4d-39b5-4a88-8bab-0a3cf0f1c56e",
   "metadata": {},
   "outputs": [
    {
     "name": "stderr",
     "output_type": "stream",
     "text": [
      "/var/folders/fh/dw4ym82j08l67xt8ndms1f_c0000gn/T/ipykernel_38682/3132411239.py:1: SettingWithCopyWarning: \n",
      "A value is trying to be set on a copy of a slice from a DataFrame.\n",
      "Try using .loc[row_indexer,col_indexer] = value instead\n",
      "\n",
      "See the caveats in the documentation: https://pandas.pydata.org/pandas-docs/stable/user_guide/indexing.html#returning-a-view-versus-a-copy\n",
      "  mf3.index['group'] = ['CHD1 low' if x < 10 else 'CHD1 high' for x in mf3['CHD1']]\n"
     ]
    }
   ],
   "source": [
    "mf3.index['group'] = ['CHD1 low' if x < 10 else 'CHD1 high' for x in mf3['CHD1']]"
   ]
  },
  {
   "cell_type": "code",
   "execution_count": 150,
   "id": "d172f2c1-a54e-490c-a447-a9caad21fcc5",
   "metadata": {},
   "outputs": [
    {
     "data": {
      "text/plain": [
       "(497, 5)                                                          Empty DataFrame\n",
       "                                                                  Columns: []\n",
       "                                                                  Index: [KLK3, PCA3, ERG, PTEN, CHD1]\n",
       "----------------------------------------------------------------  -----------------------------------------------------------\n",
       "                 age stage    sample_type  OS  OS.time     group  gene                KLK3     PCA3      ERG     PTEN    CHD1\n",
       "TCGA-2A-A8VL-01   51   T2b  Primary Tumor   0      621  CHD1 low  TCGA-2A-A8VL-01  19.1629   8.4644  11.9903  10.3644  9.1404\n",
       "TCGA-2A-A8VO-01   57   T3a  Primary Tumor   0     1701  CHD1 low  TCGA-2A-A8VO-01  19.2607  14.3640   7.6609  10.6331  9.0857\n",
       "TCGA-2A-A8VT-01   47    T4  Primary Tumor   0     1373  CHD1 low  TCGA-2A-A8VT-01  16.8638   6.1982  13.0764  10.6914  9.5660\n",
       "TCGA-2A-A8VV-01   52   T2b  Primary Tumor   0      671  CHD1 low  TCGA-2A-A8VV-01  19.2036  12.0856  13.0030  10.6339  9.0853\n",
       "TCGA-2A-A8VX-01   70   T3b  Primary Tumor   0     1378  CHD1 low  TCGA-2A-A8VX-01  18.4583  14.8225   6.1908  10.6436  8.3102\n",
       "...              ...   ...            ...  ..      ...       ...  ...                  ...      ...      ...      ...     ...\n",
       "TCGA-ZG-A9M4-01   65   T3b  Primary Tumor   0      547  CHD1 low  TCGA-ZG-A9M4-01  14.4221   1.8331   7.9511   9.9380  9.4693\n",
       "TCGA-ZG-A9MC-01   69   T3b  Primary Tumor   0      455  CHD1 low  TCGA-ZG-A9MC-01  15.6036   4.3937  11.1014  10.1474  9.4568\n",
       "TCGA-ZG-A9N3-01   73   T3b  Primary Tumor   0      349  CHD1 low  TCGA-ZG-A9N3-01  14.7842   1.0196  11.4551   8.7182  9.0667\n",
       "TCGA-ZG-A9ND-01   55   T3a  Primary Tumor   0      410  CHD1 low  TCGA-ZG-A9ND-01  19.1803  14.4060   6.6021  10.3535  6.3563\n",
       "TCGA-ZG-A9NI-01   73   T3b  Primary Tumor   0      132  CHD1 low  TCGA-ZG-A9NI-01  18.5093  11.4125   8.1205  11.1160  8.4406\n",
       "\n",
       "[497 rows x 6 columns]                                            [497 rows x 5 columns]"
      ]
     },
     "execution_count": 150,
     "metadata": {},
     "output_type": "execute_result"
    }
   ],
   "source": [
    "mf3"
   ]
  },
  {
   "cell_type": "code",
   "execution_count": null,
   "id": "c1966ec4-a422-4176-b67d-ef7bb80bc935",
   "metadata": {},
   "outputs": [],
   "source": []
  },
  {
   "attachments": {},
   "cell_type": "markdown",
   "id": "4a72bdab-5dcf-438c-bccd-8502245ce032",
   "metadata": {},
   "source": [
    "### KM Analysis\n",
    "Because the multi-indexes of a MulDataFrame object are implemented as pandas data frames, they interoperate well with the many Python libraries that accept pandas data frames as input."
   ]
  },
  {
   "cell_type": "code",
   "execution_count": 151,
   "id": "ec9e24b4-ad69-464f-9ab3-5514dedeafd0",
   "metadata": {},
   "outputs": [
    {
     "data": {
      "image/png": "[encoded data removed]",
      "text/plain": [
       "<Figure size 1000x600 with 2 Axes>"
      ]
     },
     "metadata": {},
     "output_type": "display_data"
    },
    {
     "data": {
      "text/plain": [
       "(<Figure size 1000x600 with 2 Axes>,\n",
       " <Axes: title={'center': 'Survival function\\nLogrank P-Value = 3.240e-03'}, xlabel='timeline'>)"
      ]
     },
     "execution_count": 151,
     "metadata": {},
     "output_type": "execute_result"
    }
   ],
   "source": [
    "import kaplanmeier as km\n",
    "res = km.fit(mf3.index['OS.time'], mf3.index['OS'], mf3.index['group'])\n",
    "km.plot(res)"
   ]
  },
  {
   "cell_type": "code",
   "execution_count": 30,
   "id": "50fb2f99-61eb-4243-b406-78df338891e6",
   "metadata": {},
   "outputs": [
    {
     "data": {
      "text/plain": [
       "(550, 5)                                   Empty DataFrame\n",
       "                                           Columns: []\n",
       "                                           Index: [KLK3, PCA3, ERG, PTEN, CHD1]\n",
       "-----------------------------------------  --------------------------------------------------\n",
       "                 age stage    sample_type  gene              KLK3   PCA3    ERG   PTEN   CHD1\n",
       "sampleID                                   sampleID\n",
       "TCGA-2A-A8VL-01   51   T2b  Primary Tumor  TCGA-2A-A8VL-01  441.0  115.0  398.0  171.0  260.0\n",
       "TCGA-2A-A8VO-01   57   T3a  Primary Tumor  TCGA-2A-A8VO-01  466.0  499.0  160.0  276.0  234.0\n",
       "TCGA-2A-A8VT-01   47    T4  Primary Tumor  TCGA-2A-A8VT-01   41.0   68.0  507.0  316.0  438.0\n",
       "TCGA-2A-A8VV-01   52   T2b  Primary Tumor  TCGA-2A-A8VV-01  451.0  267.0  496.0  277.0  233.0\n",
       "TCGA-2A-A8VX-01   70   T3b  Primary Tumor  TCGA-2A-A8VX-01  258.0  534.0   15.0  283.0   67.0\n",
       "...              ...   ...            ...  ...                ...    ...    ...    ...    ...\n",
       "TCGA-ZG-A9M4-01   65   T3b  Primary Tumor  TCGA-ZG-A9M4-01   11.0    4.0  212.5   97.0  396.0\n",
       "TCGA-ZG-A9MC-01   69   T3b  Primary Tumor  TCGA-ZG-A9MC-01   17.0   32.0  362.0  126.0  394.0\n",
       "TCGA-ZG-A9N3-01   73   T3b  Primary Tumor  TCGA-ZG-A9N3-01   12.0    2.0  375.0   37.0  223.0\n",
       "TCGA-ZG-A9ND-01   55   T3a  Primary Tumor  TCGA-ZG-A9ND-01  446.0  507.0   31.0  167.0    8.0\n",
       "TCGA-ZG-A9NI-01   73   T3b  Primary Tumor  TCGA-ZG-A9NI-01  272.0  221.0  244.0  495.0   82.0\n",
       "\n",
       "[550 rows x 3 columns]                     [550 rows x 5 columns]"
      ]
     },
     "execution_count": 30,
     "metadata": {},
     "output_type": "execute_result"
    }
   ],
   "source": [
    "mf.rank()"
   ]
  }
 ],
 "metadata": {
  "kernelspec": {
   "display_name": "Python 3 (ipykernel)",
   "language": "python",
   "name": "python3"
  },
  "language_info": {
   "codemirror_mode": {
    "name": "ipython",
    "version": 3
   },
   "file_extension": ".py",
   "mimetype": "text/x-python",
   "name": "python",
   "nbconvert_exporter": "python",
   "pygments_lexer": "ipython3",
   "version": "3.11.7"
  }
 },
 "nbformat": 4,
 "nbformat_minor": 5
}
